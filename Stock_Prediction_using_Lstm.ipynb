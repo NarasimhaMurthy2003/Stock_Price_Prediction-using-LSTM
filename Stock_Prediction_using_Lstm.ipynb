{
  "nbformat": 4,
  "nbformat_minor": 0,
  "metadata": {
    "colab": {
      "provenance": [],
      "authorship_tag": "ABX9TyNROYmAYpR3hRLaI8lyBbmJ",
      "include_colab_link": true
    },
    "kernelspec": {
      "name": "python3",
      "display_name": "Python 3"
    },
    "language_info": {
      "name": "python"
    }
  },
  "cells": [
    {
      "cell_type": "markdown",
      "metadata": {
        "id": "view-in-github",
        "colab_type": "text"
      },
      "source": [
        "<a href=\"https://colab.research.google.com/github/NarasimhaMurthy2003/Stock_Price_Prediction-using-LSTM/blob/main/Stock_Prediction_using_Lstm.ipynb\" target=\"_parent\"><img src=\"https://colab.research.google.com/assets/colab-badge.svg\" alt=\"Open In Colab\"/></a>"
      ]
    },
    {
      "cell_type": "code",
      "execution_count": 25,
      "metadata": {
        "colab": {
          "base_uri": "https://localhost:8080/"
        },
        "id": "hG0uq0pa-WZ7",
        "outputId": "a5383e27-be53-4f87-960f-b2269325679e"
      },
      "outputs": [
        {
          "output_type": "stream",
          "name": "stdout",
          "text": [
            "TensorFlow Version:  2.15.0\n"
          ]
        }
      ],
      "source": [
        "import tensorflow as tf\n",
        "import keras\n",
        "import yfinance as yf\n",
        "import numpy as np\n",
        "import pandas as pd\n",
        "import matplotlib.pyplot as plt\n",
        "\n",
        "# Check TensorFlow version\n",
        "print(\"TensorFlow Version: \", tf.__version__)"
      ]
    },
    {
      "cell_type": "code",
      "source": [
        "from datetime import datetime\n",
        "end = datetime.now()\n",
        "start = datetime(end.year - 1, end.month, end.day)\n",
        "from sklearn.preprocessing import MinMaxScaler"
      ],
      "metadata": {
        "id": "NvFnhr-6-fj-"
      },
      "execution_count": 26,
      "outputs": []
    },
    {
      "cell_type": "code",
      "source": [
        "aapl_data=yf.download(\"AAPL\",start,end)"
      ],
      "metadata": {
        "colab": {
          "base_uri": "https://localhost:8080/"
        },
        "id": "KIQTzzWy-3BA",
        "outputId": "ea93a18d-50f4-4465-870b-dfb484e2e47c"
      },
      "execution_count": 27,
      "outputs": [
        {
          "output_type": "stream",
          "name": "stderr",
          "text": [
            "\r[*********************100%%**********************]  1 of 1 completed\n"
          ]
        }
      ]
    },
    {
      "cell_type": "code",
      "source": [
        "aapl_data.isnull().sum()\n"
      ],
      "metadata": {
        "colab": {
          "base_uri": "https://localhost:8080/"
        },
        "id": "_XvHIpw8-6YG",
        "outputId": "5a41d982-86fa-4ae0-e3c9-1a0167729fe3"
      },
      "execution_count": 28,
      "outputs": [
        {
          "output_type": "execute_result",
          "data": {
            "text/plain": [
              "Open         0\n",
              "High         0\n",
              "Low          0\n",
              "Close        0\n",
              "Adj Close    0\n",
              "Volume       0\n",
              "dtype: int64"
            ]
          },
          "metadata": {},
          "execution_count": 28
        }
      ]
    },
    {
      "cell_type": "code",
      "source": [
        "scaler = MinMaxScaler(feature_range=(0,1))\n",
        "aapl_data_scaled = scaler.fit_transform(aapl_data['Close'].values.reshape(-1,1))"
      ],
      "metadata": {
        "id": "ib4KODCP_G0r"
      },
      "execution_count": 29,
      "outputs": []
    },
    {
      "cell_type": "code",
      "source": [
        "X = []\n",
        "y = []\n",
        "\n",
        "for i in range(60, len(aapl_data_scaled)):\n",
        "    X.append(aapl_data_scaled[i-60:i, 0])\n",
        "    y.append(aapl_data_scaled[i, 0])"
      ],
      "metadata": {
        "id": "SkIWurpZ_Q6w"
      },
      "execution_count": 30,
      "outputs": []
    },
    {
      "cell_type": "code",
      "source": [
        "train_size = int(len(X) * 0.8)\n",
        "test_size = len(X) - train_size\n",
        "\n",
        "X_train, X_test = X[:train_size], X[train_size:]\n",
        "y_train, y_test = y[:train_size], y[train_size:]"
      ],
      "metadata": {
        "id": "W__kaqI9_XRy"
      },
      "execution_count": 31,
      "outputs": []
    },
    {
      "cell_type": "code",
      "source": [
        "X_train, y_train = np.array(X_train), np.array(y_train)\n",
        "X_train = np.reshape(X_train, (X_train.shape[0], X_train.shape[1], 1))"
      ],
      "metadata": {
        "id": "YXSlFrTx_d9R"
      },
      "execution_count": 32,
      "outputs": []
    },
    {
      "cell_type": "code",
      "source": [
        "from keras.models import Sequential\n",
        "from keras.layers import LSTM, Dense, Dropout, AdditiveAttention, Permute, Reshape, Multiply\n",
        "\n",
        "model = Sequential()\n",
        "\n",
        "# Adding LSTM layers with return_sequences=True\n",
        "model.add(LSTM(units=50, return_sequences=True, input_shape=(X_train.shape[1], 1)))\n",
        "model.add(LSTM(units=50, return_sequences=True))"
      ],
      "metadata": {
        "id": "LxDWRRVQ_9jF"
      },
      "execution_count": 33,
      "outputs": []
    },
    {
      "cell_type": "code",
      "source": [
        "# Adding self-attention mechanism\n",
        "# The attention mechanism\n",
        "attention = AdditiveAttention(name='attention_weight')\n",
        "# Permute and reshape for compatibility\n",
        "model.add(Permute((2, 1)))\n",
        "model.add(Reshape((-1, X_train.shape[1])))\n",
        "attention_result = attention([model.output, model.output])\n",
        "multiply_layer = Multiply()([model.output, attention_result])\n",
        "# Return to original shape\n",
        "model.add(Permute((2, 1)))\n",
        "model.add(Reshape((-1, 50)))\n",
        "\n",
        "# Adding a Flatten layer before the final Dense layer\n",
        "model.add(tf.keras.layers.Flatten())\n",
        "\n",
        "# Final Dense layer\n",
        "model.add(Dense(1))\n",
        "\n",
        "# Compile the model\n",
        "# model.compile(optimizer='adam', loss='mean_squared_error')\n",
        "\n",
        "# Train the model\n",
        "# history = model.fit(X_train, y_train, epochs=100, batch_size=25, validation_split=0.2)"
      ],
      "metadata": {
        "id": "CDCn3uRYABit"
      },
      "execution_count": 34,
      "outputs": []
    },
    {
      "cell_type": "code",
      "source": [
        "from keras.layers import BatchNormalization\n",
        "\n",
        "# Adding Dropout and Batch Normalization\n",
        "model.add(Dropout(0.2))\n",
        "model.add(BatchNormalization())"
      ],
      "metadata": {
        "id": "xwCclhbYAGg0"
      },
      "execution_count": 35,
      "outputs": []
    },
    {
      "cell_type": "code",
      "source": [
        "model.compile(optimizer='adam', loss='mean_squared_error')"
      ],
      "metadata": {
        "id": "Y00rW1ODAKRF"
      },
      "execution_count": 36,
      "outputs": []
    },
    {
      "cell_type": "code",
      "source": [
        "history = model.fit(X_train, y_train, epochs=100, batch_size=25, validation_split=0.2)"
      ],
      "metadata": {
        "colab": {
          "base_uri": "https://localhost:8080/"
        },
        "id": "EjOmfeQnANph",
        "outputId": "2fe219cd-78d8-4459-bcc8-5127b8cad968"
      },
      "execution_count": 37,
      "outputs": [
        {
          "output_type": "stream",
          "name": "stdout",
          "text": [
            "Epoch 1/100\n",
            "5/5 [==============================] - 5s 298ms/step - loss: 0.6812 - val_loss: 0.2006\n",
            "Epoch 2/100\n",
            "5/5 [==============================] - 0s 62ms/step - loss: 0.4006 - val_loss: 0.1753\n",
            "Epoch 3/100\n",
            "5/5 [==============================] - 0s 61ms/step - loss: 0.3838 - val_loss: 0.1914\n",
            "Epoch 4/100\n",
            "5/5 [==============================] - 0s 63ms/step - loss: 0.3345 - val_loss: 0.1807\n",
            "Epoch 5/100\n",
            "5/5 [==============================] - 0s 61ms/step - loss: 0.3253 - val_loss: 0.1789\n",
            "Epoch 6/100\n",
            "5/5 [==============================] - 0s 63ms/step - loss: 0.3140 - val_loss: 0.1739\n",
            "Epoch 7/100\n",
            "5/5 [==============================] - 0s 62ms/step - loss: 0.3088 - val_loss: 0.1748\n",
            "Epoch 8/100\n",
            "5/5 [==============================] - 0s 67ms/step - loss: 0.2945 - val_loss: 0.1682\n",
            "Epoch 9/100\n",
            "5/5 [==============================] - 0s 62ms/step - loss: 0.2924 - val_loss: 0.1613\n",
            "Epoch 10/100\n",
            "5/5 [==============================] - 0s 77ms/step - loss: 0.2913 - val_loss: 0.1608\n",
            "Epoch 11/100\n",
            "5/5 [==============================] - 0s 67ms/step - loss: 0.2852 - val_loss: 0.1572\n",
            "Epoch 12/100\n",
            "5/5 [==============================] - 0s 62ms/step - loss: 0.2714 - val_loss: 0.1506\n",
            "Epoch 13/100\n",
            "5/5 [==============================] - 0s 61ms/step - loss: 0.2768 - val_loss: 0.1521\n",
            "Epoch 14/100\n",
            "5/5 [==============================] - 0s 63ms/step - loss: 0.2660 - val_loss: 0.1441\n",
            "Epoch 15/100\n",
            "5/5 [==============================] - 0s 61ms/step - loss: 0.2700 - val_loss: 0.1499\n",
            "Epoch 16/100\n",
            "5/5 [==============================] - 0s 100ms/step - loss: 0.2666 - val_loss: 0.1355\n",
            "Epoch 17/100\n",
            "5/5 [==============================] - 1s 110ms/step - loss: 0.2508 - val_loss: 0.1418\n",
            "Epoch 18/100\n",
            "5/5 [==============================] - 0s 99ms/step - loss: 0.2475 - val_loss: 0.1406\n",
            "Epoch 19/100\n",
            "5/5 [==============================] - 1s 105ms/step - loss: 0.2435 - val_loss: 0.1314\n",
            "Epoch 20/100\n",
            "5/5 [==============================] - 1s 110ms/step - loss: 0.2412 - val_loss: 0.1275\n",
            "Epoch 21/100\n",
            "5/5 [==============================] - 1s 125ms/step - loss: 0.2354 - val_loss: 0.1292\n",
            "Epoch 22/100\n",
            "5/5 [==============================] - 0s 97ms/step - loss: 0.2356 - val_loss: 0.1205\n",
            "Epoch 23/100\n",
            "5/5 [==============================] - 0s 60ms/step - loss: 0.2264 - val_loss: 0.1209\n",
            "Epoch 24/100\n",
            "5/5 [==============================] - 0s 63ms/step - loss: 0.2198 - val_loss: 0.1191\n",
            "Epoch 25/100\n",
            "5/5 [==============================] - 0s 60ms/step - loss: 0.2131 - val_loss: 0.1183\n",
            "Epoch 26/100\n",
            "5/5 [==============================] - 0s 64ms/step - loss: 0.2155 - val_loss: 0.1133\n",
            "Epoch 27/100\n",
            "5/5 [==============================] - 0s 66ms/step - loss: 0.2112 - val_loss: 0.1075\n",
            "Epoch 28/100\n",
            "5/5 [==============================] - 0s 61ms/step - loss: 0.2097 - val_loss: 0.1090\n",
            "Epoch 29/100\n",
            "5/5 [==============================] - 0s 61ms/step - loss: 0.2053 - val_loss: 0.1072\n",
            "Epoch 30/100\n",
            "5/5 [==============================] - 0s 65ms/step - loss: 0.2006 - val_loss: 0.1062\n",
            "Epoch 31/100\n",
            "5/5 [==============================] - 0s 62ms/step - loss: 0.1981 - val_loss: 0.1007\n",
            "Epoch 32/100\n",
            "5/5 [==============================] - 0s 61ms/step - loss: 0.1894 - val_loss: 0.0949\n",
            "Epoch 33/100\n",
            "5/5 [==============================] - 0s 63ms/step - loss: 0.1906 - val_loss: 0.0972\n",
            "Epoch 34/100\n",
            "5/5 [==============================] - 0s 68ms/step - loss: 0.1869 - val_loss: 0.0953\n",
            "Epoch 35/100\n",
            "5/5 [==============================] - 0s 61ms/step - loss: 0.1780 - val_loss: 0.0931\n",
            "Epoch 36/100\n",
            "5/5 [==============================] - 0s 60ms/step - loss: 0.1746 - val_loss: 0.0871\n",
            "Epoch 37/100\n",
            "5/5 [==============================] - 0s 66ms/step - loss: 0.1727 - val_loss: 0.0914\n",
            "Epoch 38/100\n",
            "5/5 [==============================] - 0s 62ms/step - loss: 0.1707 - val_loss: 0.0906\n",
            "Epoch 39/100\n",
            "5/5 [==============================] - 0s 60ms/step - loss: 0.1661 - val_loss: 0.0839\n",
            "Epoch 40/100\n",
            "5/5 [==============================] - 0s 66ms/step - loss: 0.1624 - val_loss: 0.0900\n",
            "Epoch 41/100\n",
            "5/5 [==============================] - 0s 60ms/step - loss: 0.1662 - val_loss: 0.0781\n",
            "Epoch 42/100\n",
            "5/5 [==============================] - 0s 59ms/step - loss: 0.1608 - val_loss: 0.0785\n",
            "Epoch 43/100\n",
            "5/5 [==============================] - 0s 61ms/step - loss: 0.1539 - val_loss: 0.0778\n",
            "Epoch 44/100\n",
            "5/5 [==============================] - 0s 65ms/step - loss: 0.1481 - val_loss: 0.0799\n",
            "Epoch 45/100\n",
            "5/5 [==============================] - 0s 62ms/step - loss: 0.1548 - val_loss: 0.0710\n",
            "Epoch 46/100\n",
            "5/5 [==============================] - 0s 60ms/step - loss: 0.1497 - val_loss: 0.0732\n",
            "Epoch 47/100\n",
            "5/5 [==============================] - 0s 68ms/step - loss: 0.1400 - val_loss: 0.0682\n",
            "Epoch 48/100\n",
            "5/5 [==============================] - 0s 64ms/step - loss: 0.1402 - val_loss: 0.0699\n",
            "Epoch 49/100\n",
            "5/5 [==============================] - 0s 64ms/step - loss: 0.1386 - val_loss: 0.0679\n",
            "Epoch 50/100\n",
            "5/5 [==============================] - 0s 63ms/step - loss: 0.1331 - val_loss: 0.0634\n",
            "Epoch 51/100\n",
            "5/5 [==============================] - 0s 61ms/step - loss: 0.1277 - val_loss: 0.0678\n",
            "Epoch 52/100\n",
            "5/5 [==============================] - 0s 63ms/step - loss: 0.1337 - val_loss: 0.0656\n",
            "Epoch 53/100\n",
            "5/5 [==============================] - 0s 67ms/step - loss: 0.1276 - val_loss: 0.0608\n",
            "Epoch 54/100\n",
            "5/5 [==============================] - 0s 67ms/step - loss: 0.1254 - val_loss: 0.0686\n",
            "Epoch 55/100\n",
            "5/5 [==============================] - 0s 99ms/step - loss: 0.1242 - val_loss: 0.0587\n",
            "Epoch 56/100\n",
            "5/5 [==============================] - 1s 107ms/step - loss: 0.1207 - val_loss: 0.0520\n",
            "Epoch 57/100\n",
            "5/5 [==============================] - 1s 108ms/step - loss: 0.1218 - val_loss: 0.0666\n",
            "Epoch 58/100\n",
            "5/5 [==============================] - 1s 116ms/step - loss: 0.1196 - val_loss: 0.0581\n",
            "Epoch 59/100\n",
            "5/5 [==============================] - 1s 108ms/step - loss: 0.1083 - val_loss: 0.0580\n",
            "Epoch 60/100\n",
            "5/5 [==============================] - 1s 115ms/step - loss: 0.1181 - val_loss: 0.0600\n",
            "Epoch 61/100\n",
            "5/5 [==============================] - 1s 111ms/step - loss: 0.1208 - val_loss: 0.0488\n",
            "Epoch 62/100\n",
            "5/5 [==============================] - 0s 62ms/step - loss: 0.1098 - val_loss: 0.0563\n",
            "Epoch 63/100\n",
            "5/5 [==============================] - 0s 64ms/step - loss: 0.1019 - val_loss: 0.0553\n",
            "Epoch 64/100\n",
            "5/5 [==============================] - 0s 67ms/step - loss: 0.1025 - val_loss: 0.0496\n",
            "Epoch 65/100\n",
            "5/5 [==============================] - 0s 62ms/step - loss: 0.1008 - val_loss: 0.0522\n",
            "Epoch 66/100\n",
            "5/5 [==============================] - 0s 64ms/step - loss: 0.1033 - val_loss: 0.0525\n",
            "Epoch 67/100\n",
            "5/5 [==============================] - 0s 60ms/step - loss: 0.0996 - val_loss: 0.0459\n",
            "Epoch 68/100\n",
            "5/5 [==============================] - 0s 60ms/step - loss: 0.0937 - val_loss: 0.0462\n",
            "Epoch 69/100\n",
            "5/5 [==============================] - 0s 62ms/step - loss: 0.0904 - val_loss: 0.0555\n",
            "Epoch 70/100\n",
            "5/5 [==============================] - 0s 61ms/step - loss: 0.0948 - val_loss: 0.0453\n",
            "Epoch 71/100\n",
            "5/5 [==============================] - 0s 63ms/step - loss: 0.0844 - val_loss: 0.0451\n",
            "Epoch 72/100\n",
            "5/5 [==============================] - 0s 64ms/step - loss: 0.0878 - val_loss: 0.0486\n",
            "Epoch 73/100\n",
            "5/5 [==============================] - 0s 71ms/step - loss: 0.0914 - val_loss: 0.0350\n",
            "Epoch 74/100\n",
            "5/5 [==============================] - 0s 64ms/step - loss: 0.0839 - val_loss: 0.0455\n",
            "Epoch 75/100\n",
            "5/5 [==============================] - 0s 64ms/step - loss: 0.0824 - val_loss: 0.0384\n",
            "Epoch 76/100\n",
            "5/5 [==============================] - 0s 69ms/step - loss: 0.0809 - val_loss: 0.0427\n",
            "Epoch 77/100\n",
            "5/5 [==============================] - 0s 62ms/step - loss: 0.0794 - val_loss: 0.0409\n",
            "Epoch 78/100\n",
            "5/5 [==============================] - 0s 60ms/step - loss: 0.0794 - val_loss: 0.0356\n",
            "Epoch 79/100\n",
            "5/5 [==============================] - 0s 69ms/step - loss: 0.0750 - val_loss: 0.0360\n",
            "Epoch 80/100\n",
            "5/5 [==============================] - 0s 63ms/step - loss: 0.0752 - val_loss: 0.0401\n",
            "Epoch 81/100\n",
            "5/5 [==============================] - 0s 61ms/step - loss: 0.0738 - val_loss: 0.0344\n",
            "Epoch 82/100\n",
            "5/5 [==============================] - 0s 64ms/step - loss: 0.0743 - val_loss: 0.0375\n",
            "Epoch 83/100\n",
            "5/5 [==============================] - 0s 62ms/step - loss: 0.0757 - val_loss: 0.0387\n",
            "Epoch 84/100\n",
            "5/5 [==============================] - 0s 60ms/step - loss: 0.0687 - val_loss: 0.0343\n",
            "Epoch 85/100\n",
            "5/5 [==============================] - 0s 61ms/step - loss: 0.0712 - val_loss: 0.0335\n",
            "Epoch 86/100\n",
            "5/5 [==============================] - 0s 66ms/step - loss: 0.0688 - val_loss: 0.0328\n",
            "Epoch 87/100\n",
            "5/5 [==============================] - 0s 61ms/step - loss: 0.0621 - val_loss: 0.0320\n",
            "Epoch 88/100\n",
            "5/5 [==============================] - 0s 62ms/step - loss: 0.0632 - val_loss: 0.0353\n",
            "Epoch 89/100\n",
            "5/5 [==============================] - 0s 68ms/step - loss: 0.0617 - val_loss: 0.0352\n",
            "Epoch 90/100\n",
            "5/5 [==============================] - 0s 61ms/step - loss: 0.0580 - val_loss: 0.0317\n",
            "Epoch 91/100\n",
            "5/5 [==============================] - 0s 63ms/step - loss: 0.0642 - val_loss: 0.0297\n",
            "Epoch 92/100\n",
            "5/5 [==============================] - 0s 64ms/step - loss: 0.0572 - val_loss: 0.0315\n",
            "Epoch 93/100\n",
            "5/5 [==============================] - 0s 63ms/step - loss: 0.0612 - val_loss: 0.0332\n",
            "Epoch 94/100\n",
            "5/5 [==============================] - 0s 100ms/step - loss: 0.0603 - val_loss: 0.0297\n",
            "Epoch 95/100\n",
            "5/5 [==============================] - 0s 99ms/step - loss: 0.0577 - val_loss: 0.0280\n",
            "Epoch 96/100\n",
            "5/5 [==============================] - 0s 104ms/step - loss: 0.0492 - val_loss: 0.0292\n",
            "Epoch 97/100\n",
            "5/5 [==============================] - 0s 103ms/step - loss: 0.0517 - val_loss: 0.0274\n",
            "Epoch 98/100\n",
            "5/5 [==============================] - 0s 103ms/step - loss: 0.0507 - val_loss: 0.0277\n",
            "Epoch 99/100\n",
            "5/5 [==============================] - 1s 109ms/step - loss: 0.0504 - val_loss: 0.0285\n",
            "Epoch 100/100\n",
            "5/5 [==============================] - 1s 112ms/step - loss: 0.0473 - val_loss: 0.0298\n"
          ]
        }
      ]
    },
    {
      "cell_type": "code",
      "source": [
        "from keras.callbacks import EarlyStopping\n",
        "\n",
        "early_stopping = EarlyStopping(monitor='val_loss', patience=10)\n",
        "history = model.fit(X_train, y_train, epochs=100, batch_size=25, validation_split=0.2, callbacks=[early_stopping])"
      ],
      "metadata": {
        "colab": {
          "base_uri": "https://localhost:8080/"
        },
        "id": "CrrGxTC_AR1m",
        "outputId": "56132bec-d313-47f2-aaf2-9909779d79f7"
      },
      "execution_count": 38,
      "outputs": [
        {
          "output_type": "stream",
          "name": "stdout",
          "text": [
            "Epoch 1/100\n",
            "5/5 [==============================] - 0s 74ms/step - loss: 0.0458 - val_loss: 0.0330\n",
            "Epoch 2/100\n",
            "5/5 [==============================] - 0s 64ms/step - loss: 0.0487 - val_loss: 0.0304\n",
            "Epoch 3/100\n",
            "5/5 [==============================] - 0s 64ms/step - loss: 0.0466 - val_loss: 0.0260\n",
            "Epoch 4/100\n",
            "5/5 [==============================] - 0s 61ms/step - loss: 0.0491 - val_loss: 0.0210\n",
            "Epoch 5/100\n",
            "5/5 [==============================] - 0s 65ms/step - loss: 0.0453 - val_loss: 0.0243\n",
            "Epoch 6/100\n",
            "5/5 [==============================] - 0s 67ms/step - loss: 0.0457 - val_loss: 0.0289\n",
            "Epoch 7/100\n",
            "5/5 [==============================] - 0s 61ms/step - loss: 0.0423 - val_loss: 0.0265\n",
            "Epoch 8/100\n",
            "5/5 [==============================] - 0s 61ms/step - loss: 0.0371 - val_loss: 0.0219\n",
            "Epoch 9/100\n",
            "5/5 [==============================] - 0s 68ms/step - loss: 0.0438 - val_loss: 0.0247\n",
            "Epoch 10/100\n",
            "5/5 [==============================] - 0s 61ms/step - loss: 0.0451 - val_loss: 0.0224\n",
            "Epoch 11/100\n",
            "5/5 [==============================] - 0s 62ms/step - loss: 0.0360 - val_loss: 0.0278\n",
            "Epoch 12/100\n",
            "5/5 [==============================] - 0s 62ms/step - loss: 0.0398 - val_loss: 0.0262\n",
            "Epoch 13/100\n",
            "5/5 [==============================] - 0s 63ms/step - loss: 0.0386 - val_loss: 0.0199\n",
            "Epoch 14/100\n",
            "5/5 [==============================] - 0s 61ms/step - loss: 0.0393 - val_loss: 0.0222\n",
            "Epoch 15/100\n",
            "5/5 [==============================] - 0s 70ms/step - loss: 0.0366 - val_loss: 0.0249\n",
            "Epoch 16/100\n",
            "5/5 [==============================] - 0s 64ms/step - loss: 0.0351 - val_loss: 0.0220\n",
            "Epoch 17/100\n",
            "5/5 [==============================] - 0s 61ms/step - loss: 0.0323 - val_loss: 0.0241\n",
            "Epoch 18/100\n",
            "5/5 [==============================] - 1s 111ms/step - loss: 0.0405 - val_loss: 0.0184\n",
            "Epoch 19/100\n",
            "5/5 [==============================] - 1s 105ms/step - loss: 0.0409 - val_loss: 0.0210\n",
            "Epoch 20/100\n",
            "5/5 [==============================] - 0s 102ms/step - loss: 0.0342 - val_loss: 0.0199\n",
            "Epoch 21/100\n",
            "5/5 [==============================] - 0s 99ms/step - loss: 0.0341 - val_loss: 0.0222\n",
            "Epoch 22/100\n",
            "5/5 [==============================] - 1s 107ms/step - loss: 0.0332 - val_loss: 0.0227\n",
            "Epoch 23/100\n",
            "5/5 [==============================] - 1s 116ms/step - loss: 0.0342 - val_loss: 0.0282\n",
            "Epoch 24/100\n",
            "5/5 [==============================] - 0s 87ms/step - loss: 0.0375 - val_loss: 0.0214\n",
            "Epoch 25/100\n",
            "5/5 [==============================] - 0s 68ms/step - loss: 0.0336 - val_loss: 0.0237\n",
            "Epoch 26/100\n",
            "5/5 [==============================] - 0s 63ms/step - loss: 0.0320 - val_loss: 0.0220\n",
            "Epoch 27/100\n",
            "5/5 [==============================] - 0s 60ms/step - loss: 0.0340 - val_loss: 0.0200\n",
            "Epoch 28/100\n",
            "5/5 [==============================] - 0s 64ms/step - loss: 0.0326 - val_loss: 0.0187\n"
          ]
        }
      ]
    },
    {
      "cell_type": "code",
      "source": [
        "from keras.callbacks import ModelCheckpoint, ReduceLROnPlateau, TensorBoard, CSVLogger\n",
        "\n",
        "# Callback to save the model periodically\n",
        "model_checkpoint = ModelCheckpoint('best_model.h5', save_best_only=True, monitor='val_loss')\n",
        "\n",
        "# Callback to reduce learning rate when a metric has stopped improving\n",
        "reduce_lr = ReduceLROnPlateau(monitor='val_loss', factor=0.1, patience=5)\n",
        "\n",
        "# Callback for TensorBoard\n",
        "tensorboard = TensorBoard(log_dir='./logs')\n",
        "\n",
        "# Callback to log details to a CSV file\n",
        "csv_logger = CSVLogger('training_log.csv')\n",
        "\n",
        "# Combining all callbacks\n",
        "callbacks_list = [early_stopping, model_checkpoint, reduce_lr, tensorboard, csv_logger]\n",
        "\n",
        "# Fit the model with the callbacks\n",
        "history = model.fit(X_train, y_train, epochs=100, batch_size=25, validation_split=0.2, callbacks=callbacks_list)"
      ],
      "metadata": {
        "colab": {
          "base_uri": "https://localhost:8080/"
        },
        "id": "AZePdWE5AjcQ",
        "outputId": "81108628-275c-4f5b-d750-70971aec0281"
      },
      "execution_count": 39,
      "outputs": [
        {
          "output_type": "stream",
          "name": "stdout",
          "text": [
            "Epoch 1/100\n",
            "5/5 [==============================] - 1s 98ms/step - loss: 0.0292 - val_loss: 0.0198 - lr: 0.0010\n",
            "Epoch 2/100\n",
            "3/5 [=================>............] - ETA: 0s - loss: 0.0276"
          ]
        },
        {
          "output_type": "stream",
          "name": "stderr",
          "text": [
            "/usr/local/lib/python3.10/dist-packages/keras/src/engine/training.py:3103: UserWarning: You are saving your model as an HDF5 file via `model.save()`. This file format is considered legacy. We recommend using instead the native Keras format, e.g. `model.save('my_model.keras')`.\n",
            "  saving_api.save_model(\n"
          ]
        },
        {
          "output_type": "stream",
          "name": "stdout",
          "text": [
            "5/5 [==============================] - 0s 72ms/step - loss: 0.0310 - val_loss: 0.0233 - lr: 0.0010\n",
            "Epoch 3/100\n",
            "5/5 [==============================] - 0s 87ms/step - loss: 0.0339 - val_loss: 0.0169 - lr: 0.0010\n",
            "Epoch 4/100\n",
            "5/5 [==============================] - 0s 70ms/step - loss: 0.0312 - val_loss: 0.0160 - lr: 0.0010\n",
            "Epoch 5/100\n",
            "5/5 [==============================] - 0s 69ms/step - loss: 0.0359 - val_loss: 0.0194 - lr: 0.0010\n",
            "Epoch 6/100\n",
            "5/5 [==============================] - 0s 62ms/step - loss: 0.0281 - val_loss: 0.0244 - lr: 0.0010\n",
            "Epoch 7/100\n",
            "5/5 [==============================] - 0s 63ms/step - loss: 0.0345 - val_loss: 0.0202 - lr: 0.0010\n",
            "Epoch 8/100\n",
            "5/5 [==============================] - 0s 70ms/step - loss: 0.0264 - val_loss: 0.0172 - lr: 0.0010\n",
            "Epoch 9/100\n",
            "5/5 [==============================] - 0s 70ms/step - loss: 0.0266 - val_loss: 0.0173 - lr: 0.0010\n",
            "Epoch 10/100\n",
            "5/5 [==============================] - 0s 62ms/step - loss: 0.0239 - val_loss: 0.0169 - lr: 1.0000e-04\n",
            "Epoch 11/100\n",
            "5/5 [==============================] - 0s 73ms/step - loss: 0.0255 - val_loss: 0.0162 - lr: 1.0000e-04\n",
            "Epoch 12/100\n",
            "5/5 [==============================] - 0s 68ms/step - loss: 0.0273 - val_loss: 0.0163 - lr: 1.0000e-04\n",
            "Epoch 13/100\n",
            "5/5 [==============================] - 0s 62ms/step - loss: 0.0281 - val_loss: 0.0165 - lr: 1.0000e-04\n",
            "Epoch 14/100\n",
            "5/5 [==============================] - 0s 62ms/step - loss: 0.0252 - val_loss: 0.0168 - lr: 1.0000e-04\n"
          ]
        }
      ]
    },
    {
      "cell_type": "code",
      "source": [
        "X_test = np.array(X_test)\n",
        "y_test = np.array(y_test)\n",
        "\n",
        "# Ensure X_test is reshaped similarly to how X_train was reshaped\n",
        "# This depends on how you preprocessed the training data\n",
        "X_test = np.reshape(X_test, (X_test.shape[0], X_test.shape[1], 1))\n",
        "\n",
        "# Now evaluate the model on the test data\n",
        "test_loss = model.evaluate(X_test, y_test)\n",
        "print(\"Test Loss: \", test_loss)"
      ],
      "metadata": {
        "colab": {
          "base_uri": "https://localhost:8080/"
        },
        "id": "dBi73ZEGBAQD",
        "outputId": "ba642db2-45b0-40cf-994f-c716b217914c"
      },
      "execution_count": 40,
      "outputs": [
        {
          "output_type": "stream",
          "name": "stdout",
          "text": [
            "2/2 [==============================] - 0s 15ms/step - loss: 0.0145\n",
            "Test Loss:  0.014496996998786926\n"
          ]
        }
      ]
    },
    {
      "cell_type": "code",
      "source": [
        "from sklearn.metrics import mean_absolute_error, mean_squared_error\n",
        "\n",
        "# Making predictions\n",
        "y_pred = model.predict(X_test)\n",
        "\n",
        "# Calculating MAE and RMSE\n",
        "mae = mean_absolute_error(y_test, y_pred)\n",
        "rmse = mean_squared_error(y_test, y_pred, squared=False)\n",
        "\n",
        "print(\"Mean Absolute Error: \", mae)\n",
        "print(\"Root Mean Square Error: \", rmse)"
      ],
      "metadata": {
        "colab": {
          "base_uri": "https://localhost:8080/"
        },
        "id": "YcS-NNVwBid-",
        "outputId": "ed630721-e9c8-4df4-d2f5-0be09a1ad33f"
      },
      "execution_count": 41,
      "outputs": [
        {
          "output_type": "stream",
          "name": "stdout",
          "text": [
            "2/2 [==============================] - 1s 15ms/step\n",
            "Mean Absolute Error:  0.10382804031478801\n",
            "Root Mean Square Error:  0.12040347343241882\n"
          ]
        }
      ]
    },
    {
      "cell_type": "code",
      "source": [
        "data = yf.download('AAPL', period='60d', interval='1d')\n",
        "\n",
        "# Select 'Close' price and scale it\n",
        "closing_prices = data['Close'].values.reshape(-1, 1)\n",
        "scaler = MinMaxScaler(feature_range=(0, 1))\n",
        "scaled_data = scaler.fit_transform(closing_prices)\n",
        "\n",
        "# Predict the next 4 days iteratively\n",
        "predicted_prices = []\n",
        "current_batch = scaled_data[-60:].reshape(1, 60, 1)  # Most recent 60 days\n",
        "\n",
        "for i in range(4):  # Predicting 4 days\n",
        "    # Get the prediction (next day)\n",
        "    next_prediction = model.predict(current_batch)\n",
        "\n",
        "    # Reshape the prediction to fit the batch dimension\n",
        "    next_prediction_reshaped = next_prediction.reshape(1, 1, 1)\n",
        "\n",
        "    # Append the prediction to the batch used for predicting\n",
        "    current_batch = np.append(current_batch[:, 1:, :], next_prediction_reshaped, axis=1)\n",
        "\n",
        "    # Inverse transform the prediction to the original price scale\n",
        "    predicted_prices.append(scaler.inverse_transform(next_prediction)[0, 0])\n",
        "\n",
        "print(\"Predicted Stock Prices for the next 4 days: \", predicted_prices)"
      ],
      "metadata": {
        "colab": {
          "base_uri": "https://localhost:8080/"
        },
        "id": "4XLRLt1-B3Tq",
        "outputId": "72968422-e455-47df-ce08-0788da51c477"
      },
      "execution_count": 42,
      "outputs": [
        {
          "output_type": "stream",
          "name": "stderr",
          "text": [
            "\r[*********************100%%**********************]  1 of 1 completed"
          ]
        },
        {
          "output_type": "stream",
          "name": "stdout",
          "text": [
            "1/1 [==============================] - 0s 25ms/step\n",
            "1/1 [==============================] - 0s 27ms/step\n"
          ]
        },
        {
          "output_type": "stream",
          "name": "stderr",
          "text": [
            "\n"
          ]
        },
        {
          "output_type": "stream",
          "name": "stdout",
          "text": [
            "1/1 [==============================] - 0s 26ms/step\n",
            "1/1 [==============================] - 0s 26ms/step\n",
            "Predicted Stock Prices for the next 4 days:  [183.02814, 181.73712, 180.10817, 179.16946]\n"
          ]
        }
      ]
    },
    {
      "cell_type": "code",
      "source": [
        "last_date = data.index[-1]\n",
        "next_day = last_date + pd.Timedelta(days=1)\n",
        "prediction_dates = pd.date_range(start=next_day, periods=4)\n",
        "\n",
        "# Adding predictions to the DataFrame\n",
        "predicted_data = pd.DataFrame(index=prediction_dates, data=predicted_prices, columns=['Close'])\n",
        "\n",
        "# Combining both actual and predicted data\n",
        "combined_data = pd.concat([data['Close'], predicted_data['Close']])\n",
        "combined_data = combined_data[-64:] # Last 60 days of actual data + 4 days of predictions\n",
        "\n",
        "# Plotting the actual data\n",
        "plt.figure(figsize=(10,6))\n",
        "plt.plot(data.index[-60:], data['Close'][-60:], linestyle='-', marker='o', color='blue', label='Actual Data')\n",
        "\n",
        "# Plotting the predicted data\n",
        "plt.plot(prediction_dates, predicted_prices, linestyle='-', marker='o', color='red', label='Predicted Data')\n",
        "\n",
        "plt.title(\"CB Stock Price: Last 60 Days and Next 4 Days Predicted\")\n",
        "plt.xlabel('Date')\n",
        "plt.ylabel('Price')\n",
        "plt.legend()\n",
        "plt.show()"
      ],
      "metadata": {
        "colab": {
          "base_uri": "https://localhost:8080/",
          "height": 564
        },
        "id": "J0qmCXwiCLWk",
        "outputId": "3a08fe09-8e42-4273-8d5c-d7c533c3bcbd"
      },
      "execution_count": 43,
      "outputs": [
        {
          "output_type": "display_data",
          "data": {
            "text/plain": [
              "<Figure size 1000x600 with 1 Axes>"
            ],
            "image/png": "[encoded data removed]"
          },
          "metadata": {}
        }
      ]
    },
    {
      "cell_type": "code",
      "source": [],
      "metadata": {
        "id": "r9vo6ZucCdyP"
      },
      "execution_count": 43,
      "outputs": []
    }
  ]
}